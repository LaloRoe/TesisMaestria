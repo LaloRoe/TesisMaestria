{
 "cells": [
  {
   "cell_type": "code",
   "execution_count": 23,
   "id": "e31c94c9",
   "metadata": {},
   "outputs": [],
   "source": [
    "import numpy as np\n",
    "import matplotlib.pyplot as plt\n",
    "import sympy as sp\n",
    "from sympy import symbols, expand, Poly"
   ]
  },
  {
   "cell_type": "code",
   "execution_count": 91,
   "id": "339bd9f8",
   "metadata": {},
   "outputs": [
    {
     "name": "stdout",
     "output_type": "stream",
     "text": [
      "n = 3, m = 3\n"
     ]
    }
   ],
   "source": [
    "#Coefficients of the Hilbert polynomial\n",
    "A = [[0, 2, 0], [4, 0, 6], [0, 8, 0]]\n",
    "n = len(A)\n",
    "m = len(A[0])\n",
    "print(f\"n = {n}, m = {m}\")"
   ]
  },
  {
   "cell_type": "code",
   "execution_count": 95,
   "id": "373a361b",
   "metadata": {},
   "outputs": [
    {
     "name": "stdout",
     "output_type": "stream",
     "text": [
      "f(x,y) = 2*y+4*x+6*x*y**2+8*x**2*y\n"
     ]
    }
   ],
   "source": [
    "#Coefficients of the Hilbert polynomial\n",
    "A = [[0, 2, 0], [4, 0, 6], [0, 8, 0]]\n",
    "\n",
    "# Create a symbolic variable\n",
    "\n",
    "def hilbert_system(A):\n",
    "    D = \"\"\n",
    "    x, y = symbols('x y')\n",
    "    cont = 0\n",
    "    # Dimensions of the matrix\n",
    "    n = len(A)\n",
    "    m = len(A[0])\n",
    "    # Create the polynomial\n",
    "    for i in range(n):\n",
    "        for j in range(m):\n",
    "            if A[i][j] != 0:\n",
    "                cont += 1\n",
    "                if i == 0 and j == 0:\n",
    "                    D = str(A[i][j])\n",
    "                else:\n",
    "                    if A[i][j] > 0 and cont > 1:\n",
    "                        D += \"+\"\n",
    "                    elif A[i][j] < 0 and cont > 1:\n",
    "                        D += \"-\"\n",
    "                    D += str(A[i][j])    \n",
    "                    if i > 0:\n",
    "                        if i == 1:\n",
    "                            D += \"*x\"\n",
    "                        else:\n",
    "                            D += \"*x**\" + str(i)\n",
    "                    if j > 0:\n",
    "                        if j == 1:\n",
    "                            D += \"*y\"\n",
    "                        else:\n",
    "                            D += \"*y**\" + str(j)\n",
    "    return D\n",
    "f = hilbert_system(A)\n",
    "print(f\"f(x,y) = {f}\")"
   ]
  },
  {
   "cell_type": "code",
   "execution_count": null,
   "id": "cc838577",
   "metadata": {},
   "outputs": [],
   "source": []
  }
 ],
 "metadata": {
  "kernelspec": {
   "display_name": "venv",
   "language": "python",
   "name": "python3"
  },
  "language_info": {
   "codemirror_mode": {
    "name": "ipython",
    "version": 3
   },
   "file_extension": ".py",
   "mimetype": "text/x-python",
   "name": "python",
   "nbconvert_exporter": "python",
   "pygments_lexer": "ipython3",
   "version": "3.12.3"
  }
 },
 "nbformat": 4,
 "nbformat_minor": 5
}
